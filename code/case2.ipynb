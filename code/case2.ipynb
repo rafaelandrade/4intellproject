{
 "cells": [
  {
   "cell_type": "code",
   "execution_count": 1,
   "metadata": {},
   "outputs": [],
   "source": [
    "import pandas as pd\n",
    "import numpy as np\n",
    "import seaborn as sns\n",
    "import sklearn\n",
    "import statsmodels\n",
    "import matplotlib.pyplot as plt\n",
    "%matplotlib inline\n",
    "sns.set(color_codes=True)"
   ]
  },
  {
   "cell_type": "markdown",
   "metadata": {},
   "source": [
    "# Case 2"
   ]
  },
  {
   "cell_type": "code",
   "execution_count": 63,
   "metadata": {},
   "outputs": [
    {
     "data": {
      "text/html": [
       "<div>\n",
       "<style scoped>\n",
       "    .dataframe tbody tr th:only-of-type {\n",
       "        vertical-align: middle;\n",
       "    }\n",
       "\n",
       "    .dataframe tbody tr th {\n",
       "        vertical-align: top;\n",
       "    }\n",
       "\n",
       "    .dataframe thead th {\n",
       "        text-align: right;\n",
       "    }\n",
       "</style>\n",
       "<table border=\"1\" class=\"dataframe\">\n",
       "  <thead>\n",
       "    <tr style=\"text-align: right;\">\n",
       "      <th></th>\n",
       "      <th>date</th>\n",
       "      <th>product</th>\n",
       "      <th>state</th>\n",
       "      <th>country</th>\n",
       "      <th>type</th>\n",
       "      <th>route</th>\n",
       "      <th>tons</th>\n",
       "      <th>usd</th>\n",
       "    </tr>\n",
       "  </thead>\n",
       "  <tbody>\n",
       "    <tr>\n",
       "      <th>0</th>\n",
       "      <td>1997-01-01</td>\n",
       "      <td>corn</td>\n",
       "      <td>ES</td>\n",
       "      <td>United States</td>\n",
       "      <td>Import</td>\n",
       "      <td>Sea</td>\n",
       "      <td>44.045</td>\n",
       "      <td>113029.0</td>\n",
       "    </tr>\n",
       "    <tr>\n",
       "      <th>1</th>\n",
       "      <td>1997-01-01</td>\n",
       "      <td>corn</td>\n",
       "      <td>GO</td>\n",
       "      <td>Argentina</td>\n",
       "      <td>Import</td>\n",
       "      <td>Ground</td>\n",
       "      <td>54.000</td>\n",
       "      <td>36720.0</td>\n",
       "    </tr>\n",
       "    <tr>\n",
       "      <th>2</th>\n",
       "      <td>1997-01-01</td>\n",
       "      <td>corn</td>\n",
       "      <td>GO</td>\n",
       "      <td>Bolivia</td>\n",
       "      <td>Export</td>\n",
       "      <td>Ground</td>\n",
       "      <td>0.200</td>\n",
       "      <td>180.0</td>\n",
       "    </tr>\n",
       "    <tr>\n",
       "      <th>3</th>\n",
       "      <td>1997-01-01</td>\n",
       "      <td>corn</td>\n",
       "      <td>GO</td>\n",
       "      <td>United States</td>\n",
       "      <td>Export</td>\n",
       "      <td>Sea</td>\n",
       "      <td>3.488</td>\n",
       "      <td>5688.0</td>\n",
       "    </tr>\n",
       "    <tr>\n",
       "      <th>4</th>\n",
       "      <td>1997-01-01</td>\n",
       "      <td>corn</td>\n",
       "      <td>MG</td>\n",
       "      <td>Argentina</td>\n",
       "      <td>Import</td>\n",
       "      <td>Ground</td>\n",
       "      <td>27.000</td>\n",
       "      <td>18630.0</td>\n",
       "    </tr>\n",
       "    <tr>\n",
       "      <th>...</th>\n",
       "      <td>...</td>\n",
       "      <td>...</td>\n",
       "      <td>...</td>\n",
       "      <td>...</td>\n",
       "      <td>...</td>\n",
       "      <td>...</td>\n",
       "      <td>...</td>\n",
       "      <td>...</td>\n",
       "    </tr>\n",
       "    <tr>\n",
       "      <th>117960</th>\n",
       "      <td>2019-12-01</td>\n",
       "      <td>wheat</td>\n",
       "      <td>SP</td>\n",
       "      <td>Argentina</td>\n",
       "      <td>Import</td>\n",
       "      <td>Sea</td>\n",
       "      <td>87124.765</td>\n",
       "      <td>17897516.0</td>\n",
       "    </tr>\n",
       "    <tr>\n",
       "      <th>117961</th>\n",
       "      <td>2019-12-01</td>\n",
       "      <td>wheat</td>\n",
       "      <td>SP</td>\n",
       "      <td>Ireland</td>\n",
       "      <td>Export</td>\n",
       "      <td>Sea</td>\n",
       "      <td>0.500</td>\n",
       "      <td>477.0</td>\n",
       "    </tr>\n",
       "    <tr>\n",
       "      <th>117962</th>\n",
       "      <td>2019-12-01</td>\n",
       "      <td>wheat</td>\n",
       "      <td>SP</td>\n",
       "      <td>Lebanon</td>\n",
       "      <td>Import</td>\n",
       "      <td>Sea</td>\n",
       "      <td>5.769</td>\n",
       "      <td>6726.0</td>\n",
       "    </tr>\n",
       "    <tr>\n",
       "      <th>117963</th>\n",
       "      <td>2019-12-01</td>\n",
       "      <td>wheat</td>\n",
       "      <td>SP</td>\n",
       "      <td>Liberia</td>\n",
       "      <td>Export</td>\n",
       "      <td>Other</td>\n",
       "      <td>0.025</td>\n",
       "      <td>50.0</td>\n",
       "    </tr>\n",
       "    <tr>\n",
       "      <th>117964</th>\n",
       "      <td>2019-12-01</td>\n",
       "      <td>wheat</td>\n",
       "      <td>SP</td>\n",
       "      <td>Marshall Islands</td>\n",
       "      <td>Export</td>\n",
       "      <td>Other</td>\n",
       "      <td>0.010</td>\n",
       "      <td>85.0</td>\n",
       "    </tr>\n",
       "  </tbody>\n",
       "</table>\n",
       "<p>117965 rows × 8 columns</p>\n",
       "</div>"
      ],
      "text/plain": [
       "              date product state           country    type   route       tons  \\\n",
       "0       1997-01-01    corn    ES     United States  Import     Sea     44.045   \n",
       "1       1997-01-01    corn    GO         Argentina  Import  Ground     54.000   \n",
       "2       1997-01-01    corn    GO           Bolivia  Export  Ground      0.200   \n",
       "3       1997-01-01    corn    GO     United States  Export     Sea      3.488   \n",
       "4       1997-01-01    corn    MG         Argentina  Import  Ground     27.000   \n",
       "...            ...     ...   ...               ...     ...     ...        ...   \n",
       "117960  2019-12-01   wheat    SP         Argentina  Import     Sea  87124.765   \n",
       "117961  2019-12-01   wheat    SP           Ireland  Export     Sea      0.500   \n",
       "117962  2019-12-01   wheat    SP           Lebanon  Import     Sea      5.769   \n",
       "117963  2019-12-01   wheat    SP           Liberia  Export   Other      0.025   \n",
       "117964  2019-12-01   wheat    SP  Marshall Islands  Export   Other      0.010   \n",
       "\n",
       "               usd  \n",
       "0         113029.0  \n",
       "1          36720.0  \n",
       "2            180.0  \n",
       "3           5688.0  \n",
       "4          18630.0  \n",
       "...            ...  \n",
       "117960  17897516.0  \n",
       "117961       477.0  \n",
       "117962      6726.0  \n",
       "117963        50.0  \n",
       "117964        85.0  \n",
       "\n",
       "[117965 rows x 8 columns]"
      ]
     },
     "execution_count": 63,
     "metadata": {},
     "output_type": "execute_result"
    }
   ],
   "source": [
    "df = pd.read_csv(\"../data/data_comexstat.csv\", encoding='latin-1')\n",
    "df"
   ]
  },
  {
   "cell_type": "code",
   "execution_count": 54,
   "metadata": {},
   "outputs": [
    {
     "data": {
      "text/plain": [
       "array(['corn', 'soybean_meal', 'soybean_oil', 'soybeans', 'sugar',\n",
       "       'wheat'], dtype=object)"
      ]
     },
     "execution_count": 54,
     "metadata": {},
     "output_type": "execute_result"
    }
   ],
   "source": [
    "df['product'].unique()"
   ]
  },
  {
   "cell_type": "code",
   "execution_count": 55,
   "metadata": {},
   "outputs": [
    {
     "data": {
      "text/plain": [
       "array(['Import', 'Export'], dtype=object)"
      ]
     },
     "execution_count": 55,
     "metadata": {},
     "output_type": "execute_result"
    }
   ],
   "source": [
    "df['type'].unique()"
   ]
  },
  {
   "cell_type": "code",
   "execution_count": 56,
   "metadata": {},
   "outputs": [
    {
     "name": "stdout",
     "output_type": "stream",
     "text": [
      "<class 'pandas.core.frame.DataFrame'>\n",
      "RangeIndex: 117965 entries, 0 to 117964\n",
      "Data columns (total 8 columns):\n",
      " #   Column   Non-Null Count   Dtype  \n",
      "---  ------   --------------   -----  \n",
      " 0   date     117965 non-null  object \n",
      " 1   product  117965 non-null  object \n",
      " 2   state    117965 non-null  object \n",
      " 3   country  117965 non-null  object \n",
      " 4   type     117965 non-null  object \n",
      " 5   route    117965 non-null  object \n",
      " 6   tons     117965 non-null  float64\n",
      " 7   usd      117965 non-null  float64\n",
      "dtypes: float64(2), object(6)\n",
      "memory usage: 7.2+ MB\n",
      "None\n"
     ]
    }
   ],
   "source": [
    "print(df.info())"
   ]
  },
  {
   "cell_type": "code",
   "execution_count": 66,
   "metadata": {},
   "outputs": [],
   "source": [
    "df['date'] = pd.to_datetime(df['date'])"
   ]
  },
  {
   "cell_type": "code",
   "execution_count": 57,
   "metadata": {},
   "outputs": [
    {
     "data": {
      "text/plain": [
       "0            44.045\n",
       "1            54.000\n",
       "2             0.200\n",
       "3             3.488\n",
       "4            27.000\n",
       "            ...    \n",
       "117960    87124.765\n",
       "117961        0.500\n",
       "117962        5.769\n",
       "117963        0.025\n",
       "117964        0.010\n",
       "Name: tons, Length: 117965, dtype: float64"
      ]
     },
     "execution_count": 57,
     "metadata": {},
     "output_type": "execute_result"
    }
   ],
   "source": [
    "df['tons']"
   ]
  },
  {
   "cell_type": "code",
   "execution_count": 58,
   "metadata": {},
   "outputs": [
    {
     "data": {
      "text/plain": [
       "73        13730.000\n",
       "74          100.000\n",
       "75          200.000\n",
       "167        3000.000\n",
       "168        5000.000\n",
       "            ...    \n",
       "117584        0.004\n",
       "117585        0.006\n",
       "117586      146.499\n",
       "117587    63731.482\n",
       "117588     4068.461\n",
       "Name: tons, Length: 22914, dtype: float64"
      ]
     },
     "execution_count": 58,
     "metadata": {},
     "output_type": "execute_result"
    }
   ],
   "source": [
    "df[df['product'] == 'soybeans']['tons']"
   ]
  },
  {
   "cell_type": "code",
   "execution_count": 71,
   "metadata": {},
   "outputs": [],
   "source": [
    "df['year'] = df['date'].dt.year\n",
    "df['month'] = df['date'].dt.month\n"
   ]
  },
  {
   "cell_type": "code",
   "execution_count": 79,
   "metadata": {},
   "outputs": [
    {
     "data": {
      "text/plain": [
       "0         1997\n",
       "1         1997\n",
       "2         1997\n",
       "3         1997\n",
       "4         1997\n",
       "          ... \n",
       "117960    2019\n",
       "117961    2019\n",
       "117962    2019\n",
       "117963    2019\n",
       "117964    2019\n",
       "Name: year, Length: 117965, dtype: int64"
      ]
     },
     "execution_count": 79,
     "metadata": {},
     "output_type": "execute_result"
    }
   ],
   "source": [
    "df['year']"
   ]
  },
  {
   "cell_type": "markdown",
   "metadata": {},
   "source": [
    "## Show the evolution of total monthly and total annual exports from Brazil (all states and to everywhere) of ‘soybeans’, ‘soybean oil’ and ‘soybean meal’;"
   ]
  },
  {
   "cell_type": "code",
   "execution_count": 110,
   "metadata": {},
   "outputs": [
    {
     "data": {
      "text/plain": [
       "Text(0.5, 1.0, 'soybean meal')"
      ]
     },
     "execution_count": 110,
     "metadata": {},
     "output_type": "execute_result"
    },
    {
     "data": {
      "image/png": "[encoded data removed]",
      "text/plain": [
       "<Figure size 432x288 with 1 Axes>"
      ]
     },
     "metadata": {},
     "output_type": "display_data"
    },
    {
     "data": {
      "image/png": "[encoded data removed]",
      "text/plain": [
       "<Figure size 432x288 with 1 Axes>"
      ]
     },
     "metadata": {},
     "output_type": "display_data"
    },
    {
     "data": {
      "image/png": "[encoded data removed]",
      "text/plain": [
       "<Figure size 432x288 with 1 Axes>"
      ]
     },
     "metadata": {},
     "output_type": "display_data"
    }
   ],
   "source": [
    "sumonth = df.groupby(['product', 'month'])['tons'].agg('sum').reset_index()\n",
    "\n",
    "\n",
    "sumonth.loc[(sumonth['product'] == 'soybeans')].plot(x='month', y='tons')\n",
    "plt.title('soybeans')\n",
    "\n",
    "sumonth.loc[(sumonth['product'] == 'soybean_oil')].plot(x='month', y='tons')\n",
    "plt.title('soybean oil')\n",
    "\n",
    "sumonth.loc[(sumonth['product'] == 'soybean_meal')].plot(x='month', y='tons')\n",
    "plt.title('soybean meal')\n"
   ]
  },
  {
   "cell_type": "code",
   "execution_count": 109,
   "metadata": {},
   "outputs": [
    {
     "data": {
      "text/plain": [
       "Text(0.5, 1.0, 'soybean meal')"
      ]
     },
     "execution_count": 109,
     "metadata": {},
     "output_type": "execute_result"
    },
    {
     "data": {
      "image/png": "[encoded data removed]",
      "text/plain": [
       "<Figure size 432x288 with 1 Axes>"
      ]
     },
     "metadata": {},
     "output_type": "display_data"
    },
    {
     "data": {
      "image/png": "[encoded data removed]",
      "text/plain": [
       "<Figure size 432x288 with 1 Axes>"
      ]
     },
     "metadata": {},
     "output_type": "display_data"
    },
    {
     "data": {
      "image/png": "[encoded data removed]",
      "text/plain": [
       "<Figure size 432x288 with 1 Axes>"
      ]
     },
     "metadata": {},
     "output_type": "display_data"
    }
   ],
   "source": [
    "sumyear = df.groupby(['product', 'year'])['tons'].agg('sum').reset_index()\n",
    "\n",
    "\n",
    "sumyear.loc[(sumyear['product'] == 'soybeans')].plot(x='year', y='tons')\n",
    "plt.title('soybeans')\n",
    "\n",
    "sumyear.loc[(sumyear['product'] == 'soybean_oil')].plot(x='year', y='tons')\n",
    "plt.title('soybean oil')\n",
    "\n",
    "sumyear.loc[(sumyear['product'] == 'soybean_meal')].plot(x='year', y='tons')\n",
    "plt.title('soybean meal')\n"
   ]
  },
  {
   "cell_type": "code",
   "execution_count": 150,
   "metadata": {},
   "outputs": [
    {
     "data": {
      "image/png": "[encoded data removed]",
      "text/plain": [
       "<Figure size 1080x576 with 1 Axes>"
      ]
     },
     "metadata": {},
     "output_type": "display_data"
    }
   ],
   "source": [
    "res = df.loc[df['year'] > 2014]\n",
    "\n",
    "sumproduct = res.groupby(['product', 'year'])['tons'].agg('sum').reset_index()\n",
    "\n",
    "sumproduct = sumproduct.groupby(['product'])['tons'].agg('sum').reset_index()\n",
    "\n",
    "sumproduct\n",
    "\n",
    "result = sorted(zip(sumproduct['tons'], sumproduct['product']), reverse=True)[:3]\n",
    "\n",
    "result = pd.DataFrame(result, columns=['tons', 'product'])\n",
    "\n",
    "\n",
    "plt.figure(figsize=(15,8))\n",
    "plt.bar(result['product'], result['tons'])\n",
    "plt.title('The 3 most important products exported by Brazil in the last 5 years')\n",
    "plt.show()"
   ]
  },
  {
   "cell_type": "markdown",
   "metadata": {},
   "source": [
    "## What are the main routes through which Brazil have been exporting ‘corn’ in the last few years?"
   ]
  },
  {
   "cell_type": "code",
   "execution_count": 201,
   "metadata": {},
   "outputs": [
    {
     "data": {
      "text/html": [
       "<div>\n",
       "<style scoped>\n",
       "    .dataframe tbody tr th:only-of-type {\n",
       "        vertical-align: middle;\n",
       "    }\n",
       "\n",
       "    .dataframe tbody tr th {\n",
       "        vertical-align: top;\n",
       "    }\n",
       "\n",
       "    .dataframe thead th {\n",
       "        text-align: right;\n",
       "    }\n",
       "</style>\n",
       "<table border=\"1\" class=\"dataframe\">\n",
       "  <thead>\n",
       "    <tr style=\"text-align: right;\">\n",
       "      <th></th>\n",
       "      <th>year</th>\n",
       "      <th>tons</th>\n",
       "      <th>year</th>\n",
       "    </tr>\n",
       "  </thead>\n",
       "  <tbody>\n",
       "    <tr>\n",
       "      <th>0</th>\n",
       "      <td>4.162963e+07</td>\n",
       "      <td>2019</td>\n",
       "      <td>Sea</td>\n",
       "    </tr>\n",
       "    <tr>\n",
       "      <th>1</th>\n",
       "      <td>2.780871e+07</td>\n",
       "      <td>2017</td>\n",
       "      <td>Sea</td>\n",
       "    </tr>\n",
       "    <tr>\n",
       "      <th>2</th>\n",
       "      <td>2.723006e+07</td>\n",
       "      <td>2015</td>\n",
       "      <td>Sea</td>\n",
       "    </tr>\n",
       "    <tr>\n",
       "      <th>3</th>\n",
       "      <td>2.542388e+07</td>\n",
       "      <td>2013</td>\n",
       "      <td>Sea</td>\n",
       "    </tr>\n",
       "    <tr>\n",
       "      <th>4</th>\n",
       "      <td>2.244137e+07</td>\n",
       "      <td>2016</td>\n",
       "      <td>Sea</td>\n",
       "    </tr>\n",
       "    <tr>\n",
       "      <th>5</th>\n",
       "      <td>2.142774e+07</td>\n",
       "      <td>2018</td>\n",
       "      <td>Sea</td>\n",
       "    </tr>\n",
       "    <tr>\n",
       "      <th>6</th>\n",
       "      <td>1.968249e+07</td>\n",
       "      <td>2014</td>\n",
       "      <td>Sea</td>\n",
       "    </tr>\n",
       "    <tr>\n",
       "      <th>7</th>\n",
       "      <td>1.942810e+07</td>\n",
       "      <td>2012</td>\n",
       "      <td>Sea</td>\n",
       "    </tr>\n",
       "    <tr>\n",
       "      <th>8</th>\n",
       "      <td>9.278302e+06</td>\n",
       "      <td>2011</td>\n",
       "      <td>Sea</td>\n",
       "    </tr>\n",
       "    <tr>\n",
       "      <th>9</th>\n",
       "      <td>1.960314e+06</td>\n",
       "      <td>2017</td>\n",
       "      <td>River</td>\n",
       "    </tr>\n",
       "    <tr>\n",
       "      <th>10</th>\n",
       "      <td>1.648734e+06</td>\n",
       "      <td>2015</td>\n",
       "      <td>River</td>\n",
       "    </tr>\n",
       "    <tr>\n",
       "      <th>11</th>\n",
       "      <td>1.483785e+06</td>\n",
       "      <td>2016</td>\n",
       "      <td>Ground</td>\n",
       "    </tr>\n",
       "    <tr>\n",
       "      <th>12</th>\n",
       "      <td>1.461048e+06</td>\n",
       "      <td>2018</td>\n",
       "      <td>River</td>\n",
       "    </tr>\n",
       "    <tr>\n",
       "      <th>13</th>\n",
       "      <td>1.385010e+06</td>\n",
       "      <td>2019</td>\n",
       "      <td>Ground</td>\n",
       "    </tr>\n",
       "    <tr>\n",
       "      <th>14</th>\n",
       "      <td>1.256793e+06</td>\n",
       "      <td>2013</td>\n",
       "      <td>River</td>\n",
       "    </tr>\n",
       "    <tr>\n",
       "      <th>15</th>\n",
       "      <td>9.346963e+05</td>\n",
       "      <td>2014</td>\n",
       "      <td>River</td>\n",
       "    </tr>\n",
       "    <tr>\n",
       "      <th>16</th>\n",
       "      <td>8.474632e+05</td>\n",
       "      <td>2013</td>\n",
       "      <td>Ground</td>\n",
       "    </tr>\n",
       "    <tr>\n",
       "      <th>17</th>\n",
       "      <td>8.146561e+05</td>\n",
       "      <td>2012</td>\n",
       "      <td>Ground</td>\n",
       "    </tr>\n",
       "    <tr>\n",
       "      <th>18</th>\n",
       "      <td>7.838957e+05</td>\n",
       "      <td>2014</td>\n",
       "      <td>Ground</td>\n",
       "    </tr>\n",
       "    <tr>\n",
       "      <th>19</th>\n",
       "      <td>7.632264e+05</td>\n",
       "      <td>2017</td>\n",
       "      <td>Ground</td>\n",
       "    </tr>\n",
       "    <tr>\n",
       "      <th>20</th>\n",
       "      <td>7.220158e+05</td>\n",
       "      <td>2018</td>\n",
       "      <td>Ground</td>\n",
       "    </tr>\n",
       "    <tr>\n",
       "      <th>21</th>\n",
       "      <td>7.208768e+05</td>\n",
       "      <td>2016</td>\n",
       "      <td>River</td>\n",
       "    </tr>\n",
       "    <tr>\n",
       "      <th>22</th>\n",
       "      <td>6.425366e+05</td>\n",
       "      <td>2011</td>\n",
       "      <td>Ground</td>\n",
       "    </tr>\n",
       "    <tr>\n",
       "      <th>23</th>\n",
       "      <td>3.807339e+05</td>\n",
       "      <td>2012</td>\n",
       "      <td>River</td>\n",
       "    </tr>\n",
       "    <tr>\n",
       "      <th>24</th>\n",
       "      <td>3.800958e+05</td>\n",
       "      <td>2015</td>\n",
       "      <td>Ground</td>\n",
       "    </tr>\n",
       "    <tr>\n",
       "      <th>25</th>\n",
       "      <td>2.129905e+05</td>\n",
       "      <td>2011</td>\n",
       "      <td>River</td>\n",
       "    </tr>\n",
       "    <tr>\n",
       "      <th>26</th>\n",
       "      <td>1.984809e+05</td>\n",
       "      <td>2019</td>\n",
       "      <td>Other</td>\n",
       "    </tr>\n",
       "    <tr>\n",
       "      <th>27</th>\n",
       "      <td>7.865474e+04</td>\n",
       "      <td>2019</td>\n",
       "      <td>River</td>\n",
       "    </tr>\n",
       "    <tr>\n",
       "      <th>28</th>\n",
       "      <td>6.054849e+04</td>\n",
       "      <td>2018</td>\n",
       "      <td>Other</td>\n",
       "    </tr>\n",
       "    <tr>\n",
       "      <th>29</th>\n",
       "      <td>9.657467e+03</td>\n",
       "      <td>2015</td>\n",
       "      <td>Air</td>\n",
       "    </tr>\n",
       "    <tr>\n",
       "      <th>30</th>\n",
       "      <td>3.407038e+03</td>\n",
       "      <td>2017</td>\n",
       "      <td>Other</td>\n",
       "    </tr>\n",
       "    <tr>\n",
       "      <th>31</th>\n",
       "      <td>2.015430e+03</td>\n",
       "      <td>2014</td>\n",
       "      <td>Other</td>\n",
       "    </tr>\n",
       "    <tr>\n",
       "      <th>32</th>\n",
       "      <td>1.837631e+03</td>\n",
       "      <td>2016</td>\n",
       "      <td>Other</td>\n",
       "    </tr>\n",
       "    <tr>\n",
       "      <th>33</th>\n",
       "      <td>1.781068e+03</td>\n",
       "      <td>2015</td>\n",
       "      <td>Other</td>\n",
       "    </tr>\n",
       "    <tr>\n",
       "      <th>34</th>\n",
       "      <td>1.674739e+03</td>\n",
       "      <td>2011</td>\n",
       "      <td>Other</td>\n",
       "    </tr>\n",
       "    <tr>\n",
       "      <th>35</th>\n",
       "      <td>1.450369e+03</td>\n",
       "      <td>2013</td>\n",
       "      <td>Other</td>\n",
       "    </tr>\n",
       "    <tr>\n",
       "      <th>36</th>\n",
       "      <td>1.183483e+03</td>\n",
       "      <td>2012</td>\n",
       "      <td>Other</td>\n",
       "    </tr>\n",
       "    <tr>\n",
       "      <th>37</th>\n",
       "      <td>2.742460e+02</td>\n",
       "      <td>2017</td>\n",
       "      <td>Air</td>\n",
       "    </tr>\n",
       "    <tr>\n",
       "      <th>38</th>\n",
       "      <td>1.541830e+02</td>\n",
       "      <td>2013</td>\n",
       "      <td>Air</td>\n",
       "    </tr>\n",
       "    <tr>\n",
       "      <th>39</th>\n",
       "      <td>1.516520e+02</td>\n",
       "      <td>2012</td>\n",
       "      <td>Air</td>\n",
       "    </tr>\n",
       "    <tr>\n",
       "      <th>40</th>\n",
       "      <td>1.274820e+02</td>\n",
       "      <td>2018</td>\n",
       "      <td>Air</td>\n",
       "    </tr>\n",
       "    <tr>\n",
       "      <th>41</th>\n",
       "      <td>1.209290e+02</td>\n",
       "      <td>2016</td>\n",
       "      <td>Air</td>\n",
       "    </tr>\n",
       "    <tr>\n",
       "      <th>42</th>\n",
       "      <td>1.181440e+02</td>\n",
       "      <td>2014</td>\n",
       "      <td>Air</td>\n",
       "    </tr>\n",
       "    <tr>\n",
       "      <th>43</th>\n",
       "      <td>8.937700e+01</td>\n",
       "      <td>2011</td>\n",
       "      <td>Air</td>\n",
       "    </tr>\n",
       "    <tr>\n",
       "      <th>44</th>\n",
       "      <td>7.222700e+01</td>\n",
       "      <td>2019</td>\n",
       "      <td>Air</td>\n",
       "    </tr>\n",
       "  </tbody>\n",
       "</table>\n",
       "</div>"
      ],
      "text/plain": [
       "            year  tons    year\n",
       "0   4.162963e+07  2019     Sea\n",
       "1   2.780871e+07  2017     Sea\n",
       "2   2.723006e+07  2015     Sea\n",
       "3   2.542388e+07  2013     Sea\n",
       "4   2.244137e+07  2016     Sea\n",
       "5   2.142774e+07  2018     Sea\n",
       "6   1.968249e+07  2014     Sea\n",
       "7   1.942810e+07  2012     Sea\n",
       "8   9.278302e+06  2011     Sea\n",
       "9   1.960314e+06  2017   River\n",
       "10  1.648734e+06  2015   River\n",
       "11  1.483785e+06  2016  Ground\n",
       "12  1.461048e+06  2018   River\n",
       "13  1.385010e+06  2019  Ground\n",
       "14  1.256793e+06  2013   River\n",
       "15  9.346963e+05  2014   River\n",
       "16  8.474632e+05  2013  Ground\n",
       "17  8.146561e+05  2012  Ground\n",
       "18  7.838957e+05  2014  Ground\n",
       "19  7.632264e+05  2017  Ground\n",
       "20  7.220158e+05  2018  Ground\n",
       "21  7.208768e+05  2016   River\n",
       "22  6.425366e+05  2011  Ground\n",
       "23  3.807339e+05  2012   River\n",
       "24  3.800958e+05  2015  Ground\n",
       "25  2.129905e+05  2011   River\n",
       "26  1.984809e+05  2019   Other\n",
       "27  7.865474e+04  2019   River\n",
       "28  6.054849e+04  2018   Other\n",
       "29  9.657467e+03  2015     Air\n",
       "30  3.407038e+03  2017   Other\n",
       "31  2.015430e+03  2014   Other\n",
       "32  1.837631e+03  2016   Other\n",
       "33  1.781068e+03  2015   Other\n",
       "34  1.674739e+03  2011   Other\n",
       "35  1.450369e+03  2013   Other\n",
       "36  1.183483e+03  2012   Other\n",
       "37  2.742460e+02  2017     Air\n",
       "38  1.541830e+02  2013     Air\n",
       "39  1.516520e+02  2012     Air\n",
       "40  1.274820e+02  2018     Air\n",
       "41  1.209290e+02  2016     Air\n",
       "42  1.181440e+02  2014     Air\n",
       "43  8.937700e+01  2011     Air\n",
       "44  7.222700e+01  2019     Air"
      ]
     },
     "execution_count": 201,
     "metadata": {},
     "output_type": "execute_result"
    }
   ],
   "source": [
    "res = df.loc[(df['year'] > 2010) & (df['product'] == 'corn')]\n",
    "\n",
    "sumroute = res.groupby(['product', 'year', 'route'])['tons'].agg('sum').reset_index()\n",
    "\n",
    "sumroute = sumroute.groupby(['year', 'route'])['tons'].agg('sum').reset_index()\n",
    "\n",
    "sumroute\n",
    "\n",
    "resultroute = sorted(zip(sumroute['year'],sumroute['tons'], sumroute['route']), reverse=True)[:50]\n"
   ]
  },
  {
   "cell_type": "code",
   "execution_count": 205,
   "metadata": {},
   "outputs": [
    {
     "data": {
      "image/png": "[encoded data removed]",
      "text/plain": [
       "<Figure size 1080x576 with 1 Axes>"
      ]
     },
     "metadata": {},
     "output_type": "display_data"
    }
   ],
   "source": [
    "resultroute = sorted(zip(sumroute['tons'],sumroute['year'], sumroute['route']), reverse=True)[:9]\n",
    "\n",
    "\n",
    "resultroute = pd.DataFrame(resultroute, columns=['tons', 'year', 'route'])\n",
    "\n",
    "plt.figure(figsize=(15,8))\n",
    "plt.bar(result['year'], result['tons'])\n",
    "plt.title('The tons of exportantion of corn in sea inn the last 9 years')\n",
    "plt.show()"
   ]
  },
  {
   "cell_type": "raw",
   "metadata": {},
   "source": [
    "Are there differences in the relative importancem of routes depending on the product?\n",
    "\n",
    "Yes, according with different types of product and for what country going to export is less expensive and fast in some routes."
   ]
  },
  {
   "cell_type": "markdown",
   "metadata": {},
   "source": [
    "## Which countries have been the most important trade partners for Brazil in terms of ‘corn’ and ‘sugar’ in the last 3 years?\n"
   ]
  },
  {
   "cell_type": "code",
   "execution_count": 250,
   "metadata": {},
   "outputs": [
    {
     "data": {
      "text/html": [
       "<div>\n",
       "<style scoped>\n",
       "    .dataframe tbody tr th:only-of-type {\n",
       "        vertical-align: middle;\n",
       "    }\n",
       "\n",
       "    .dataframe tbody tr th {\n",
       "        vertical-align: top;\n",
       "    }\n",
       "\n",
       "    .dataframe thead th {\n",
       "        text-align: right;\n",
       "    }\n",
       "</style>\n",
       "<table border=\"1\" class=\"dataframe\">\n",
       "  <thead>\n",
       "    <tr style=\"text-align: right;\">\n",
       "      <th></th>\n",
       "      <th>product</th>\n",
       "      <th>year</th>\n",
       "      <th>country</th>\n",
       "      <th>tons</th>\n",
       "    </tr>\n",
       "  </thead>\n",
       "  <tbody>\n",
       "    <tr>\n",
       "      <th>25</th>\n",
       "      <td>corn</td>\n",
       "      <td>2017</td>\n",
       "      <td>Iran</td>\n",
       "      <td>4832977.659</td>\n",
       "    </tr>\n",
       "    <tr>\n",
       "      <th>102</th>\n",
       "      <td>corn</td>\n",
       "      <td>2018</td>\n",
       "      <td>Iran</td>\n",
       "      <td>6379039.216</td>\n",
       "    </tr>\n",
       "    <tr>\n",
       "      <th>208</th>\n",
       "      <td>corn</td>\n",
       "      <td>2019</td>\n",
       "      <td>Japan</td>\n",
       "      <td>6492977.189</td>\n",
       "    </tr>\n",
       "  </tbody>\n",
       "</table>\n",
       "</div>"
      ],
      "text/plain": [
       "    product  year country         tons\n",
       "25     corn  2017    Iran  4832977.659\n",
       "102    corn  2018    Iran  6379039.216\n",
       "208    corn  2019   Japan  6492977.189"
      ]
     },
     "execution_count": 250,
     "metadata": {},
     "output_type": "execute_result"
    }
   ],
   "source": [
    "result_trade_corn = df.loc[(df['year'] > 2016) & (df['product'] == 'corn')]\n",
    "\n",
    "sumtradecorn = result_trade_corn.groupby(['product', 'year', 'country'])['tons'].agg('sum').reset_index()\n",
    "\n",
    "\n",
    "\n",
    "restradecorn = sumtradecorn.loc[sumtradecorn.groupby(\"year\")[\"tons\"].idxmax()]\n",
    "\n",
    "restradecorn"
   ]
  },
  {
   "cell_type": "code",
   "execution_count": 262,
   "metadata": {},
   "outputs": [
    {
     "data": {
      "image/png": "[encoded data removed]",
      "text/plain": [
       "<Figure size 1080x360 with 1 Axes>"
      ]
     },
     "metadata": {},
     "output_type": "display_data"
    }
   ],
   "source": [
    "plt.figure(figsize=(15,5))\n",
    "plt.bar(restradecorn['year'], restradecorn['tons'])\n",
    "plt.xticks(restradecorn['year'], restradecorn['country'])\n",
    "plt.title('Top trade partners for brazil in corn in the last 3 years')\n",
    "plt.show()"
   ]
  },
  {
   "cell_type": "code",
   "execution_count": 264,
   "metadata": {},
   "outputs": [
    {
     "data": {
      "text/html": [
       "<div>\n",
       "<style scoped>\n",
       "    .dataframe tbody tr th:only-of-type {\n",
       "        vertical-align: middle;\n",
       "    }\n",
       "\n",
       "    .dataframe tbody tr th {\n",
       "        vertical-align: top;\n",
       "    }\n",
       "\n",
       "    .dataframe thead th {\n",
       "        text-align: right;\n",
       "    }\n",
       "</style>\n",
       "<table border=\"1\" class=\"dataframe\">\n",
       "  <thead>\n",
       "    <tr style=\"text-align: right;\">\n",
       "      <th></th>\n",
       "      <th>product</th>\n",
       "      <th>year</th>\n",
       "      <th>country</th>\n",
       "      <th>tons</th>\n",
       "    </tr>\n",
       "  </thead>\n",
       "  <tbody>\n",
       "    <tr>\n",
       "      <th>10</th>\n",
       "      <td>sugar</td>\n",
       "      <td>2017</td>\n",
       "      <td>Bangladesh</td>\n",
       "      <td>2837284.108</td>\n",
       "    </tr>\n",
       "    <tr>\n",
       "      <th>124</th>\n",
       "      <td>sugar</td>\n",
       "      <td>2018</td>\n",
       "      <td>Algeria</td>\n",
       "      <td>2274985.843</td>\n",
       "    </tr>\n",
       "    <tr>\n",
       "      <th>251</th>\n",
       "      <td>sugar</td>\n",
       "      <td>2019</td>\n",
       "      <td>Algeria</td>\n",
       "      <td>2206675.348</td>\n",
       "    </tr>\n",
       "  </tbody>\n",
       "</table>\n",
       "</div>"
      ],
      "text/plain": [
       "    product  year     country         tons\n",
       "10    sugar  2017  Bangladesh  2837284.108\n",
       "124   sugar  2018     Algeria  2274985.843\n",
       "251   sugar  2019     Algeria  2206675.348"
      ]
     },
     "execution_count": 264,
     "metadata": {},
     "output_type": "execute_result"
    }
   ],
   "source": [
    "result_trade_sugar = df.loc[(df['year'] > 2016) & (df['product'] == 'sugar')]\n",
    "\n",
    "sumtradesugar = result_trade_sugar.groupby(['product', 'year', 'country'])['tons'].agg('sum').reset_index()\n",
    "\n",
    "sumtradesugar = sumtradesugar.loc[sumtradesugar.groupby(\"year\")[\"tons\"].idxmax()]\n",
    "\n",
    "sumtradesugar"
   ]
  },
  {
   "cell_type": "code",
   "execution_count": 265,
   "metadata": {},
   "outputs": [
    {
     "data": {
      "image/png": "[encoded data removed]",
      "text/plain": [
       "<Figure size 1080x360 with 1 Axes>"
      ]
     },
     "metadata": {},
     "output_type": "display_data"
    }
   ],
   "source": [
    "plt.figure(figsize=(15,5))\n",
    "plt.bar(sumtradesugar['year'], sumtradesugar['tons'])\n",
    "plt.xticks(sumtradesugar['year'], sumtradesugar['country'])\n",
    "plt.title('Top trade partners for brazil in sugar in the last 3 years')\n",
    "plt.show()"
   ]
  },
  {
   "cell_type": "code",
   "execution_count": null,
   "metadata": {},
   "outputs": [],
   "source": []
  }
 ],
 "metadata": {
  "kernelspec": {
   "display_name": "Python 3",
   "language": "python",
   "name": "python3"
  },
  "language_info": {
   "codemirror_mode": {
    "name": "ipython",
    "version": 3
   },
   "file_extension": ".py",
   "mimetype": "text/x-python",
   "name": "python",
   "nbconvert_exporter": "python",
   "pygments_lexer": "ipython3",
   "version": "3.7.6"
  }
 },
 "nbformat": 4,
 "nbformat_minor": 4
}
